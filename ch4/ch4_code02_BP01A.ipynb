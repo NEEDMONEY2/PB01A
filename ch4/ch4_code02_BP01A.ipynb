{
  "nbformat": 4,
  "nbformat_minor": 0,
  "metadata": {
    "colab": {
      "name": "ch4_code02-BP01A.ipynb",
      "provenance": [],
      "collapsed_sections": [],
      "toc_visible": true,
      "include_colab_link": true
    },
    "kernelspec": {
      "display_name": "Python 3",
      "language": "python",
      "name": "python3"
    },
    "language_info": {
      "codemirror_mode": {
        "name": "ipython",
        "version": 3
      },
      "file_extension": ".py",
      "mimetype": "text/x-python",
      "name": "python",
      "nbconvert_exporter": "python",
      "pygments_lexer": "ipython3",
      "version": "3.7.5"
    }
  },
  "cells": [
    {
      "cell_type": "markdown",
      "metadata": {
        "id": "view-in-github",
        "colab_type": "text"
      },
      "source": [
        "<a href=\"https://colab.research.google.com/github/kkdw428/PB01A/blob/main/ch4/ch4_code02_BP01A.ipynb\" target=\"_parent\"><img src=\"https://colab.research.google.com/assets/colab-badge.svg\" alt=\"Open In Colab\"/></a>"
      ]
    },
    {
      "cell_type": "markdown",
      "metadata": {
        "id": "H4jNE-BMAK3f"
      },
      "source": [
        "# ch4_code02.ipynb\n",
        "## PB01A  (change to your id)\n",
        "- 사용자 입력과 출력\n",
        "   - 사용자 입력\n",
        "     - input의 사용\n",
        "     - 프롬프트를 띄워서 사용자 입력 받기\n",
        "   - print 자세히 알기\n",
        "     - 큰따옴표(\")로 둘러싸인 문자열은 + 연산과 동일하다\n",
        "     - 문자열 띄어쓰기는 콤마로 한다\n",
        "     - 한 줄에 결괏값 출력하기\n",
        "---\n",
        "- 파일 읽고 쓰기\n",
        "   - 파일 생성하기\n",
        "   - 파일을 쓰기 모드로 열어 출력값 적기\n",
        "   - 프로그램의 외부에 저장된 파일을 읽는 여러 가지 방법\n",
        "     - readline() 함수 이용하기\n",
        "     - readlines 함수 사용하기\n",
        "     - read 함수 사용하기\n",
        "   - 파일에 새로운 내용 추가하기\n",
        "   - with문과 함께 사용하기"
      ]
    },
    {
      "cell_type": "markdown",
      "metadata": {
        "id": "uRmeDLFPxvEG"
      },
      "source": [
        "### user io"
      ]
    },
    {
      "cell_type": "code",
      "metadata": {
        "id": "hXPcvn1CtW6z",
        "colab": {
          "base_uri": "https://localhost:8080/"
        },
        "outputId": "249e8b18-2d03-4f6b-bc98-0b69a61a4001"
      },
      "source": [
        "# ch4_02_user_io.py\n",
        "#\n",
        "print(\"사용자 입력과 출력\")\n",
        "#######################################\n",
        "# 사용자의 입력을 받는 방법과 출력하는 방법\n",
        "#######################################\n"
      ],
      "execution_count": 1,
      "outputs": [
        {
          "output_type": "stream",
          "text": [
            "사용자 입력과 출력\n"
          ],
          "name": "stdout"
        }
      ]
    },
    {
      "cell_type": "code",
      "metadata": {
        "colab": {
          "base_uri": "https://localhost:8080/",
          "height": 90
        },
        "id": "fIimpSs8R-5S",
        "outputId": "f3b27efc-9a9d-40e3-8183-7a0fef6f9ea6"
      },
      "source": [
        "\n",
        "print(\"사용자 입력\")\n",
        "# 사용자가 입력한 값을 어떤 변수에 대입\n",
        "#######################################\n",
        "print(\"input의 사용\")\n",
        "#######################################\n",
        "\n",
        "a = input()\n",
        "# Life is too short, you need python\n",
        "a"
      ],
      "execution_count": 2,
      "outputs": [
        {
          "output_type": "stream",
          "text": [
            "사용자 입력\n",
            "input의 사용\n",
            "Life is too short, you need python\n"
          ],
          "name": "stdout"
        },
        {
          "output_type": "execute_result",
          "data": {
            "application/vnd.google.colaboratory.intrinsic+json": {
              "type": "string"
            },
            "text/plain": [
              "'Life is too short, you need python'"
            ]
          },
          "metadata": {
            "tags": []
          },
          "execution_count": 2
        }
      ]
    },
    {
      "cell_type": "code",
      "metadata": {
        "colab": {
          "base_uri": "https://localhost:8080/"
        },
        "id": "52gBf44dSE99",
        "outputId": "228ce1b3-7e9d-4323-d78a-7839957f9fda"
      },
      "source": [
        "print(\"입력 안내 문구를 이용한 input의 사용\")\n",
        "#######################################\n",
        "# input(\"안내 문구\")\n",
        "#######################################\n",
        "\n",
        "number = input(\"숫자를 입력하세요: \")\n",
        "\n",
        "print(number)"
      ],
      "execution_count": 3,
      "outputs": [
        {
          "output_type": "stream",
          "text": [
            "입력 안내 문구를 이용한 input의 사용\n",
            "숫자를 입력하세요: 1\n",
            "1\n"
          ],
          "name": "stdout"
        }
      ]
    },
    {
      "cell_type": "code",
      "metadata": {
        "colab": {
          "base_uri": "https://localhost:8080/"
        },
        "id": "MVA8cGwSdhFl",
        "outputId": "17ec66a3-b4ae-4a43-debd-5d6f354d3685"
      },
      "source": [
        "number=input(\"숫자만 입력하세요!\")\n",
        "if number.isnumeric():  #숫자인가\n",
        "  print(number)\n",
        "else:\n",
        "    print(\"경고: 숫자만 입력하세요\")\n",
        "\n",
        "  "
      ],
      "execution_count": 5,
      "outputs": [
        {
          "output_type": "stream",
          "text": [
            "숫자만 입력하세요!1\n",
            "1\n"
          ],
          "name": "stdout"
        }
      ]
    },
    {
      "cell_type": "markdown",
      "metadata": {
        "id": "jhAgtgt2fBru"
      },
      "source": [
        "### 사용자 출력: print()\n"
      ]
    },
    {
      "cell_type": "code",
      "metadata": {
        "colab": {
          "base_uri": "https://localhost:8080/"
        },
        "id": "sOrA3M2edUVa",
        "outputId": "162a7472-90b2-478e-c487-510dcf2bd6df"
      },
      "source": [
        "print(\"사용자 출력: print()\")\n",
        "# 입력한 자료형을 출력\n",
        "#######################################\n",
        "print(\"print의 사용\")\n",
        "#######################################\n",
        "\n",
        "a = 123\n",
        "print(a)\n",
        "\n",
        "a = \"Python\"\n",
        "print(a)\n",
        "\n",
        "a = [1, 2, 3]\n",
        "print(a)"
      ],
      "execution_count": 6,
      "outputs": [
        {
          "output_type": "stream",
          "text": [
            "사용자 출력: print()\n",
            "print의 사용\n",
            "123\n",
            "Python\n",
            "[1, 2, 3]\n"
          ],
          "name": "stdout"
        }
      ]
    },
    {
      "cell_type": "code",
      "metadata": {
        "colab": {
          "base_uri": "https://localhost:8080/"
        },
        "id": "7rpdfNeqf-Yo",
        "outputId": "f9ecc42f-c9dd-4b5e-88b6-f76036bba4db"
      },
      "source": [
        "#######################################\n",
        "print(\"큰따옴표(\\\")로 둘러싸인 문자열은 + 연산과 동일\")\n",
        "#\n",
        "print(\"life\" \"is\" \"too short\")\n",
        "print(\"life\"+\"is\"+\"too short\")"
      ],
      "execution_count": 7,
      "outputs": [
        {
          "output_type": "stream",
          "text": [
            "큰따옴표(\")로 둘러싸인 문자열은 + 연산과 동일\n",
            "lifeistoo short\n",
            "lifeistoo short\n"
          ],
          "name": "stdout"
        }
      ]
    },
    {
      "cell_type": "code",
      "metadata": {
        "colab": {
          "base_uri": "https://localhost:8080/"
        },
        "id": "y5Jwl3tLgOxQ",
        "outputId": "a073e093-ece1-404e-edd8-1fe2ffa15b7e"
      },
      "source": [
        "#######################################\n",
        "print(\"문자열 띄어쓰기는 콤마로 한다\")\n",
        "#\n",
        "print(\"life\", \"is\", \"too short\")\n"
      ],
      "execution_count": 10,
      "outputs": [
        {
          "output_type": "stream",
          "text": [
            "문자열 띄어쓰기는 콤마로 한다\n",
            "life is too short\n"
          ],
          "name": "stdout"
        }
      ]
    },
    {
      "cell_type": "code",
      "metadata": {
        "colab": {
          "base_uri": "https://localhost:8080/"
        },
        "id": "xmd9ifwUgpjq",
        "outputId": "0bb70f19-6156-4214-9501-b3ac0d1abe4a"
      },
      "source": [
        "#######################################\n",
        "print(\"한 줄에 결괏값 출력하기\")\n",
        "#\n",
        "for i in range(10):\n",
        "    print(i, end=' ')  #end=' ' 은 옆으로 쭉 쓰는거 \n"
      ],
      "execution_count": 16,
      "outputs": [
        {
          "output_type": "stream",
          "text": [
            "한 줄에 결괏값 출력하기\n",
            "0 1 2 3 4 5 6 7 8 9 "
          ],
          "name": "stdout"
        }
      ]
    },
    {
      "cell_type": "markdown",
      "metadata": {
        "id": "UWweVZiOxmUE"
      },
      "source": [
        "### File io : 파일 입출력"
      ]
    },
    {
      "cell_type": "code",
      "metadata": {
        "id": "XKHVBjDWxSz1",
        "colab": {
          "base_uri": "https://localhost:8080/"
        },
        "outputId": "f1dcceea-f87e-4089-9762-c7a52ead3040"
      },
      "source": [
        "# ch4_03_file_io.py\n",
        "#\n",
        "print(\"파일 읽고 쓰기\")\n",
        "#######################################\n",
        "# 파일을 통한 입출력 방법에 대해 알아보자.\n",
        "#######################################\n"
      ],
      "execution_count": 1,
      "outputs": [
        {
          "output_type": "stream",
          "text": [
            "파일 읽고 쓰기\n"
          ],
          "name": "stdout"
        }
      ]
    },
    {
      "cell_type": "markdown",
      "metadata": {
        "id": "d13q1b2eLBpk"
      },
      "source": [
        "### 파일 객체 = open(파일 이름, 파일 열기 모드)\n",
        "- 파일열기모드\n",
        "  - r\t읽기모드 - 파일을 읽기만 할 때 사용\n",
        "  - w\t쓰기모드 - 파일에 내용을 쓸 때 사용\n",
        "  - a\t추가모드 - 파일의 마지막에 새로운 내용을 추가 시킬 때 사용"
      ]
    },
    {
      "cell_type": "code",
      "metadata": {
        "colab": {
          "base_uri": "https://localhost:8080/",
          "height": 54
        },
        "id": "n2R1Q8fAKy_X",
        "outputId": "d6dffb2c-9a7e-4d20-b238-539d6d65e0c1"
      },
      "source": [
        "\n",
        "print(\"파일 쓰기(생성하기)\")\n",
        "#\n",
        "# 파일 객체 = open(파일 이름, 파일 열기 모드)\n",
        "#\n",
        "# 파일열기모드\n",
        "# r\t읽기모드 - 파일을 읽기만 할 때 사용\n",
        "# w\t쓰기모드 - 파일에 내용을 쓸 때 사용\n",
        "# a\t추가모드 - 파일의 마지막에 새로운 내용을 추가 시킬 때 사용\n",
        "#\n",
        "\n",
        "f = open(\"새파일.txt\", \"w\")\n",
        "f.close()\n",
        "# 파일이 어디에 만들어졌는 지 확인하시오!!!\n",
        "\n",
        "# 다른 폴더에 파일 생성\n",
        "\"\"\"\n",
        "f = open(\"doit/새파일.txt\", 'w')\n",
        "f.close()\n",
        "\"\"\""
      ],
      "execution_count": 2,
      "outputs": [
        {
          "output_type": "stream",
          "text": [
            "파일 쓰기(생성하기)\n"
          ],
          "name": "stdout"
        },
        {
          "output_type": "execute_result",
          "data": {
            "application/vnd.google.colaboratory.intrinsic+json": {
              "type": "string"
            },
            "text/plain": [
              "'\\nf = open(\"C:/doit/새파일.txt\", \\'w\\')\\nf.close()\\n'"
            ]
          },
          "metadata": {
            "tags": []
          },
          "execution_count": 2
        }
      ]
    },
    {
      "cell_type": "code",
      "metadata": {
        "id": "dX_-6kIaNTk1"
      },
      "source": [
        "f = open(\"doit/새파일2.txt\", 'w')\n",
        "f.close()"
      ],
      "execution_count": 4,
      "outputs": []
    },
    {
      "cell_type": "code",
      "metadata": {
        "colab": {
          "base_uri": "https://localhost:8080/"
        },
        "id": "7sjxbP4IK1xL",
        "outputId": "d6bfbcdb-3a66-456f-e8a4-04de2885899d"
      },
      "source": [
        "print(\"파일을 쓰기 모드로 열어 출력값 적기\")\n",
        "#######################################\n",
        "# 프로그램의 출력값을 파일에 직접 써 보자.\n",
        "#######################################\n",
        "# 모니터에 출력\n",
        "for i in range(1, 11):\n",
        "    data = \"%d번째 줄입니다.\\n\" % i\n",
        "    print(data)\n"
      ],
      "execution_count": 6,
      "outputs": [
        {
          "output_type": "stream",
          "text": [
            "파일을 쓰기 모드로 열어 출력값 적기\n",
            "1번째 줄입니다.\n",
            "\n",
            "2번째 줄입니다.\n",
            "\n",
            "3번째 줄입니다.\n",
            "\n",
            "4번째 줄입니다.\n",
            "\n",
            "5번째 줄입니다.\n",
            "\n",
            "6번째 줄입니다.\n",
            "\n",
            "7번째 줄입니다.\n",
            "\n",
            "8번째 줄입니다.\n",
            "\n",
            "9번째 줄입니다.\n",
            "\n",
            "10번째 줄입니다.\n",
            "\n"
          ],
          "name": "stdout"
        }
      ]
    },
    {
      "cell_type": "code",
      "metadata": {
        "id": "Gp2Wrs8VOzIY"
      },
      "source": [
        "\n",
        "\n",
        "# 파일에 기록(출력)\n",
        "# writedata.py\n",
        "f = open(\"./새파일.txt\", \"w\")   # . 는 현재폴더를 의미함\n",
        "for i in range(1, 11):\n",
        "    data = \"%d번째 줄입니다.\\n\" % i\n",
        "    f.write(data)\n",
        "\n",
        "\n",
        "f.close()\n",
        "\n",
        "# 출력 파일의 한글이 깨지면\n",
        "# 파일 > 기본설정 > 설정 > Files: Auto Guess Encoding 을 지정(check)\n",
        "#"
      ],
      "execution_count": 7,
      "outputs": []
    },
    {
      "cell_type": "markdown",
      "metadata": {
        "id": "ajh5dS0KP87O"
      },
      "source": [
        "### 파일읽기\n",
        "1. readline() 함수 이용하기\n",
        "2. readlines 함수 사용하기\n",
        "3. read 함수 사용하기"
      ]
    },
    {
      "cell_type": "code",
      "metadata": {
        "colab": {
          "base_uri": "https://localhost:8080/"
        },
        "id": "Di1zVDwiPifM",
        "outputId": "067303bd-6067-4afc-f4e9-2eb72563c699"
      },
      "source": [
        " ###################################################\n",
        "print(\"파일 읽기\")\n",
        "#\n",
        "# 파일 객체 = open(파일 이름, 파일 열기 모드)\n",
        "#\n",
        "# 파일읽기\n",
        "# readline() 함수 이용하기\n",
        "# readlines 함수 사용하기\n",
        "# read 함수 사용하기\n",
        "#\n",
        "# 1. readline() 함수\n",
        "# readline_test.py\n",
        "f = open(\"새파일.txt\", \"r\")\n",
        "line = f.readline()\n",
        "print(line)\n",
        "f.close()\n"
      ],
      "execution_count": 8,
      "outputs": [
        {
          "output_type": "stream",
          "text": [
            "파일 읽기\n",
            "1번째 줄입니다.\n",
            "\n"
          ],
          "name": "stdout"
        }
      ]
    },
    {
      "cell_type": "code",
      "metadata": {
        "id": "8OeQWuneVIR9"
      },
      "source": [
        "\n",
        "# readline_all.py\n",
        "f = open(\"새파일.txt\", \"r\")\n",
        "while True:\n",
        "    line = f.readline()\n",
        "    if not line:     # line에 내용이 없으면 break 한다는말\n",
        "        break            \n",
        "    print(line)\n",
        "f.close()\n"
      ],
      "execution_count": null,
      "outputs": []
    },
    {
      "cell_type": "code",
      "metadata": {
        "colab": {
          "base_uri": "https://localhost:8080/"
        },
        "id": "JnLlU0lsVXlG",
        "outputId": "f0ae3d4b-e743-463c-e685-58fa83a1790c"
      },
      "source": [
        " \n",
        "# 사용자 입력을 이용한 화면 출력\n",
        "while 1:\n",
        "    data = input()\n",
        "    if not data:\n",
        "        break\n",
        "    print(data)\n"
      ],
      "execution_count": 10,
      "outputs": [
        {
          "output_type": "stream",
          "text": [
            "1\n",
            "1\n",
            "2\n",
            "2\n",
            "\n"
          ],
          "name": "stdout"
        }
      ]
    },
    {
      "cell_type": "code",
      "metadata": {
        "colab": {
          "base_uri": "https://localhost:8080/"
        },
        "id": "stUUiteTWg6l",
        "outputId": "19efe90a-d22d-486b-9d45-bbf99184b69f"
      },
      "source": [
        " # 2. readlines() 함수\n",
        "f = open(\"새파일.txt\", \"r\")\n",
        "lines = f.readlines()\n",
        "for line in lines:\n",
        "    print(line, end=\"\")\n",
        "f.close()\n"
      ],
      "execution_count": 15,
      "outputs": [
        {
          "output_type": "stream",
          "text": [
            "1번째 줄입니다.\n",
            "2번째 줄입니다.\n",
            "3번째 줄입니다.\n",
            "4번째 줄입니다.\n",
            "5번째 줄입니다.\n",
            "6번째 줄입니다.\n",
            "7번째 줄입니다.\n",
            "8번째 줄입니다.\n",
            "9번째 줄입니다.\n",
            "10번째 줄입니다.\n"
          ],
          "name": "stdout"
        }
      ]
    },
    {
      "cell_type": "code",
      "metadata": {
        "colab": {
          "base_uri": "https://localhost:8080/"
        },
        "id": "fIvCi4zMXmVm",
        "outputId": "7b7ef219-4bd2-47e2-f72a-ed0c6a0d5c9f"
      },
      "source": [
        "\n",
        "# 3. readl() 함수\n",
        "f = open(\"새파일.txt\", \"r\")\n",
        "data = f.read()\n",
        "print(data)\n",
        "f.close()\n"
      ],
      "execution_count": 16,
      "outputs": [
        {
          "output_type": "stream",
          "text": [
            "1번째 줄입니다.\n",
            "2번째 줄입니다.\n",
            "3번째 줄입니다.\n",
            "4번째 줄입니다.\n",
            "5번째 줄입니다.\n",
            "6번째 줄입니다.\n",
            "7번째 줄입니다.\n",
            "8번째 줄입니다.\n",
            "9번째 줄입니다.\n",
            "10번째 줄입니다.\n",
            "\n"
          ],
          "name": "stdout"
        }
      ]
    },
    {
      "cell_type": "code",
      "metadata": {
        "colab": {
          "base_uri": "https://localhost:8080/"
        },
        "id": "Pn8FVnZvYrmd",
        "outputId": "efa6380d-f7f1-46b5-9628-e047049bb270"
      },
      "source": [
        "\n",
        "###################################################\n",
        "print(\"파일에 새로운 내용 추가하기\")\n",
        "#\n",
        "# 파일에 원래 있던 값을 유지하면서 단지 새로운 값만 추가\n",
        "# 파일을 추가 모드('a')로 열고 쓴다.\n",
        "#\n",
        "# adddata.py\n",
        "f = open(\"새파일.txt\", \"a\")\n",
        "for i in range(11, 20):\n",
        "    data = \"%d번째 줄입니다.\\n\" % i\n",
        "    f.write(data)\n",
        "f.close()\n"
      ],
      "execution_count": 17,
      "outputs": [
        {
          "output_type": "stream",
          "text": [
            "파일에 새로운 내용 추가하기\n"
          ],
          "name": "stdout"
        }
      ]
    },
    {
      "cell_type": "code",
      "metadata": {
        "colab": {
          "base_uri": "https://localhost:8080/"
        },
        "id": "abKderhcY-Ic",
        "outputId": "33db41d8-31c3-4f0d-9ee5-67f7fb51c976"
      },
      "source": [
        "\n",
        "# 수정된 파일 확인\n",
        "f = open(\"새파일.txt\", \"r\")\n",
        "data = f.read()\n",
        "print(data)\n",
        "f.close()\n"
      ],
      "execution_count": 19,
      "outputs": [
        {
          "output_type": "stream",
          "text": [
            "1번째 줄입니다.\n",
            "2번째 줄입니다.\n",
            "3번째 줄입니다.\n",
            "4번째 줄입니다.\n",
            "5번째 줄입니다.\n",
            "6번째 줄입니다.\n",
            "7번째 줄입니다.\n",
            "8번째 줄입니다.\n",
            "9번째 줄입니다.\n",
            "10번째 줄입니다.\n",
            "11번째 줄입니다.\n",
            "12번째 줄입니다.\n",
            "13번째 줄입니다.\n",
            "14번째 줄입니다.\n",
            "15번째 줄입니다.\n",
            "16번째 줄입니다.\n",
            "17번째 줄입니다.\n",
            "18번째 줄입니다.\n",
            "19번째 줄입니다.\n",
            "\n"
          ],
          "name": "stdout"
        }
      ]
    },
    {
      "cell_type": "markdown",
      "metadata": {
        "id": "gYYecLerZ4S1"
      },
      "source": [
        "### with in file io\n",
        "> with문을 사용하면 with 블록을 벗어나는 순간 열린 파일 객체 f가 자동으로 close 된다."
      ]
    },
    {
      "cell_type": "code",
      "metadata": {
        "colab": {
          "base_uri": "https://localhost:8080/"
        },
        "id": "K_nSx0AiZgfq",
        "outputId": "074d6b7e-7eb1-42f7-9e1d-b6617248f4ac"
      },
      "source": [
        "\n",
        "###################################################\n",
        "print(\"with문과 함께 사용하기\")\n",
        "#\n",
        "# with문을 사용하면 with 블록을 벗어나는 순간\n",
        "# 열린 파일 객체 f가 자동으로 close 된다.\n",
        "#\n",
        "f = open(\"foo.txt\", \"w\")\n",
        "f.write(\"Life is too short, you need python\")\n",
        "f.close()\n"
      ],
      "execution_count": 20,
      "outputs": [
        {
          "output_type": "stream",
          "text": [
            "with문과 함께 사용하기\n"
          ],
          "name": "stdout"
        }
      ]
    },
    {
      "cell_type": "code",
      "metadata": {
        "id": "bswc5rrFar_3"
      },
      "source": [
        "\n",
        "with open(\"foo1.txt\", \"w\") as f:\n",
        "    f.write(\"Life is too short, you need python\\n\")\n",
        "    f.write(\"PB01A,UK\")"
      ],
      "execution_count": 23,
      "outputs": []
    },
    {
      "cell_type": "markdown",
      "metadata": {
        "id": "_fMeTf40byKn"
      },
      "source": [
        "### sys 모듈로 매개변수 주기"
      ]
    },
    {
      "cell_type": "code",
      "metadata": {
        "id": "xJD46ZBCa77t"
      },
      "source": [
        "\n",
        "###################################################\n",
        "print(\"sys 모듈로 매개변수 주기\")\n",
        "#\n",
        "\"\"\"\n",
        "#sys1.py\n",
        "import sys\n",
        "args = sys.argv[1:]\n",
        "for i in args:\n",
        "    print(i)\n",
        "\"\"\""
      ],
      "execution_count": null,
      "outputs": []
    },
    {
      "cell_type": "code",
      "metadata": {
        "id": "JvcvhPe6gmwK"
      },
      "source": [
        "\n",
        "\n",
        "######\n",
        "\"\"\"\n",
        "#sys2.py\n",
        "import sys\n",
        "args = sys.argv[1:]\n",
        "for i in args:\n",
        "    print(i.upper(), end=' ')\n",
        "\"\"\"\n"
      ],
      "execution_count": null,
      "outputs": []
    },
    {
      "cell_type": "code",
      "metadata": {
        "id": "fGBlcLGN-3pd"
      },
      "source": [
        "import sys\n",
        "args = sys.argv[1:]\n",
        "for arg in args:\n",
        "  print(arg)"
      ],
      "execution_count": null,
      "outputs": []
    },
    {
      "cell_type": "code",
      "metadata": {
        "colab": {
          "base_uri": "https://localhost:8080/"
        },
        "id": "7u-d6SKWi7ph",
        "outputId": "063a8bae-9531-457d-c58e-b9d2e717cadb"
      },
      "source": [
        "run sys1.py a b c"
      ],
      "execution_count": 25,
      "outputs": [
        {
          "output_type": "stream",
          "text": [
            "sys1.py\n",
            "a\n",
            "b\n",
            "c\n"
          ],
          "name": "stdout"
        }
      ]
    },
    {
      "cell_type": "code",
      "metadata": {
        "colab": {
          "base_uri": "https://localhost:8080/"
        },
        "id": "x9MEezxci-IN",
        "outputId": "dc9bf301-9302-4e01-b05e-d08ac3db1582"
      },
      "source": [
        "run sys2.py aa bb cc"
      ],
      "execution_count": 26,
      "outputs": [
        {
          "output_type": "stream",
          "text": [
            "AA BB CC "
          ],
          "name": "stdout"
        }
      ]
    },
    {
      "cell_type": "code",
      "metadata": {
        "colab": {
          "base_uri": "https://localhost:8080/"
        },
        "id": "neLKbmk7jeXN",
        "outputId": "cf03f880-9bca-46b5-e6f1-11c739129ed5"
      },
      "source": [
        "!python sys2.py abc def"
      ],
      "execution_count": 27,
      "outputs": [
        {
          "output_type": "stream",
          "text": [
            "ABC DEF "
          ],
          "name": "stdout"
        }
      ]
    },
    {
      "cell_type": "code",
      "metadata": {
        "id": "Y4yYo4m_k3_F"
      },
      "source": [
        ""
      ],
      "execution_count": null,
      "outputs": []
    }
  ]
}