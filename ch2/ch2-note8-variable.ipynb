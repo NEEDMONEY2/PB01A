{
 "metadata": {
  "language_info": {
   "codemirror_mode": {
    "name": "ipython",
    "version": 3
   },
   "file_extension": ".py",
   "mimetype": "text/x-python",
   "name": "python",
   "nbconvert_exporter": "python",
   "pygments_lexer": "ipython3",
   "version": "3.8.5-final"
  },
  "orig_nbformat": 2,
  "kernelspec": {
   "name": "python385jvsc74a57bd0183bbf6827d058c2a2fb0f4acdc0420849dda2b4380af0e437e38c64d798d8b7",
   "display_name": "Python 3.8.5 64-bit ('Admin': virtualenv)"
  }
 },
 "nbformat": 4,
 "nbformat_minor": 2,
 "cells": [
  {
   "source": [
    "# ch2-note8-variable.ipynb by PB01A"
   ],
   "cell_type": "markdown",
   "metadata": {}
  },
  {
   "source": [
    "### \"변수: 변수란?\"\n",
    "### 변수는 자료(값)을 저장하는 공간이다."
   ],
   "cell_type": "markdown",
   "metadata": {}
  },
  {
   "cell_type": "code",
   "execution_count": 8,
   "metadata": {},
   "outputs": [
    {
     "output_type": "execute_result",
     "data": {
      "text/plain": [
       "2044502469888"
      ]
     },
     "metadata": {},
     "execution_count": 8
    }
   ],
   "source": [
    "a = [1, 2, 3]\n",
    "id(a)"
   ]
  },
  {
   "cell_type": "code",
   "execution_count": 10,
   "metadata": {},
   "outputs": [
    {
     "output_type": "execute_result",
     "data": {
      "text/plain": [
       "(2044502469888, 2044502469888)"
      ]
     },
     "metadata": {},
     "execution_count": 10
    }
   ],
   "source": [
    "b = a\n",
    "id(a), id(b)"
   ]
  },
  {
   "cell_type": "code",
   "execution_count": 11,
   "metadata": {},
   "outputs": [
    {
     "output_type": "execute_result",
     "data": {
      "text/plain": [
       "True"
      ]
     },
     "metadata": {},
     "execution_count": 11
    }
   ],
   "source": [
    "a is b"
   ]
  },
  {
   "cell_type": "code",
   "execution_count": 12,
   "metadata": {},
   "outputs": [
    {
     "output_type": "execute_result",
     "data": {
      "text/plain": [
       "([1, 4, 3], [1, 4, 3])"
      ]
     },
     "metadata": {},
     "execution_count": 12
    }
   ],
   "source": [
    "a[1] = 4\n",
    "a, b"
   ]
  },
  {
   "cell_type": "code",
   "execution_count": 13,
   "metadata": {},
   "outputs": [
    {
     "output_type": "execute_result",
     "data": {
      "text/plain": [
       "True"
      ]
     },
     "metadata": {},
     "execution_count": 13
    }
   ],
   "source": [
    "a is b"
   ]
  },
  {
   "cell_type": "code",
   "execution_count": 14,
   "metadata": {},
   "outputs": [
    {
     "output_type": "execute_result",
     "data": {
      "text/plain": [
       "2044502969792"
      ]
     },
     "metadata": {},
     "execution_count": 14
    }
   ],
   "source": [
    "b = [1, 2, 3]\n",
    "id(b)"
   ]
  },
  {
   "cell_type": "code",
   "execution_count": 15,
   "metadata": {},
   "outputs": [
    {
     "output_type": "execute_result",
     "data": {
      "text/plain": [
       "False"
      ]
     },
     "metadata": {},
     "execution_count": 15
    }
   ],
   "source": [
    "a is b"
   ]
  },
  {
   "source": [
    "### b 변수를 생성할 때 a 변수의 값을 가져오면서\n",
    "### a와는 다른 주소를 가리키도록 만들수는 없을까?\n",
    "### 다음 2가지 방법이 있다."
   ],
   "cell_type": "markdown",
   "metadata": {}
  },
  {
   "source": [
    "### 1. [:] 이용"
   ],
   "cell_type": "markdown",
   "metadata": {}
  },
  {
   "cell_type": "code",
   "execution_count": 17,
   "metadata": {},
   "outputs": [
    {
     "output_type": "execute_result",
     "data": {
      "text/plain": [
       "([1, 4, 3], [1, 2, 3])"
      ]
     },
     "metadata": {},
     "execution_count": 17
    }
   ],
   "source": [
    "a = [1, 2, 3]\n",
    "b = a[:]\n",
    "a[1] = 4\n",
    "a, b"
   ]
  },
  {
   "source": [
    "###  2. copy 모듈 이용"
   ],
   "cell_type": "markdown",
   "metadata": {}
  },
  {
   "cell_type": "code",
   "execution_count": 25,
   "metadata": {},
   "outputs": [
    {
     "output_type": "execute_result",
     "data": {
      "text/plain": [
       "(False, False)"
      ]
     },
     "metadata": {},
     "execution_count": 25
    }
   ],
   "source": [
    "a = [1, 2, 3]\n",
    "from copy import copy\n",
    "b = copy(a)\n",
    "b is a, a is b"
   ]
  },
  {
   "source": [
    "### 변수를 만드는 여러 가지 방법"
   ],
   "cell_type": "markdown",
   "metadata": {}
  },
  {
   "cell_type": "code",
   "execution_count": 26,
   "metadata": {},
   "outputs": [
    {
     "output_type": "execute_result",
     "data": {
      "text/plain": [
       "'python'"
      ]
     },
     "metadata": {},
     "execution_count": 26
    }
   ],
   "source": [
    "a, b = (\"python\", \"life\")\n",
    "a"
   ]
  },
  {
   "cell_type": "code",
   "execution_count": 27,
   "metadata": {},
   "outputs": [
    {
     "output_type": "execute_result",
     "data": {
      "text/plain": [
       "'life'"
      ]
     },
     "metadata": {},
     "execution_count": 27
    }
   ],
   "source": [
    "b"
   ]
  },
  {
   "cell_type": "code",
   "execution_count": 28,
   "metadata": {},
   "outputs": [
    {
     "output_type": "execute_result",
     "data": {
      "text/plain": [
       "('python', 'life')"
      ]
     },
     "metadata": {},
     "execution_count": 28
    }
   ],
   "source": [
    "a, b\n"
   ]
  },
  {
   "cell_type": "code",
   "execution_count": 30,
   "metadata": {},
   "outputs": [
    {
     "output_type": "execute_result",
     "data": {
      "text/plain": [
       "'python'"
      ]
     },
     "metadata": {},
     "execution_count": 30
    }
   ],
   "source": [
    "[a, b] = [\"python\", \"life\"]\n",
    "a"
   ]
  },
  {
   "cell_type": "code",
   "execution_count": 31,
   "metadata": {},
   "outputs": [
    {
     "output_type": "execute_result",
     "data": {
      "text/plain": [
       "'life'"
      ]
     },
     "metadata": {},
     "execution_count": 31
    }
   ],
   "source": [
    "b"
   ]
  },
  {
   "cell_type": "code",
   "execution_count": 32,
   "metadata": {},
   "outputs": [
    {
     "output_type": "execute_result",
     "data": {
      "text/plain": [
       "5"
      ]
     },
     "metadata": {},
     "execution_count": 32
    }
   ],
   "source": [
    "a = 3\n",
    "b = 5\n",
    "a, b = b, a\n",
    "a"
   ]
  },
  {
   "cell_type": "code",
   "execution_count": 33,
   "metadata": {},
   "outputs": [
    {
     "output_type": "execute_result",
     "data": {
      "text/plain": [
       "3"
      ]
     },
     "metadata": {},
     "execution_count": 33
    }
   ],
   "source": [
    "b"
   ]
  },
  {
   "cell_type": "code",
   "execution_count": null,
   "metadata": {},
   "outputs": [],
   "source": []
  }
 ]
}