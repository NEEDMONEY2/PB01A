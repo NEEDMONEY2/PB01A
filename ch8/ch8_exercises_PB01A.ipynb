{
  "nbformat": 4,
  "nbformat_minor": 0,
  "metadata": {
    "colab": {
      "name": "ch8_exercises_PB01A.ipynb",
      "provenance": [],
      "collapsed_sections": [],
      "include_colab_link": true
    },
    "kernelspec": {
      "name": "python3",
      "display_name": "Python 3"
    }
  },
  "cells": [
    {
      "cell_type": "markdown",
      "metadata": {
        "id": "view-in-github",
        "colab_type": "text"
      },
      "source": [
        "<a href=\"https://colab.research.google.com/github/kkdw428/PB01A/blob/main/ch8/ch8_exercises_PB01A.ipynb\" target=\"_parent\"><img src=\"https://colab.research.google.com/assets/colab-badge.svg\" alt=\"Open In Colab\"/></a>"
      ]
    },
    {
      "cell_type": "markdown",
      "metadata": {
        "id": "ovY5jkD5dpxE"
      },
      "source": [
        "# ch8_exercises.ipynb"
      ]
    },
    {
      "cell_type": "markdown",
      "metadata": {
        "id": "SZw6UnxQWYBe"
      },
      "source": [
        "Q1. 문자열 바꾸기\n",
        "> 다음과 같은 문자열이 있다.\n",
        "\n",
        "```\n",
        "a:b:c:d\n",
        "```\n",
        "\n",
        "> 문자열의 split와 join 함수를 사용하여 위 문자열을 다음과 같이 고치시오.\n",
        "\n",
        "```\n",
        "a#b#c#d\n",
        "```\n"
      ]
    },
    {
      "cell_type": "code",
      "metadata": {
        "id": "rUNNaqJPdg7B",
        "colab": {
          "base_uri": "https://localhost:8080/",
          "height": 35
        },
        "outputId": "d6834c4a-5ff3-4a6b-9896-04f94ba8a384"
      },
      "source": [
        "# [Q1] Code-1 \n",
        "a= \"a:b:c:d\"\n",
        "b=a.split(\":\") #: 을 기준으로 나눔\n",
        "b\n",
        "c=\"#\".join(b)   # #을 기준으로 합친다\n",
        "c\n"
      ],
      "execution_count": null,
      "outputs": [
        {
          "output_type": "execute_result",
          "data": {
            "application/vnd.google.colaboratory.intrinsic+json": {
              "type": "string"
            },
            "text/plain": [
              "'a#b#c#d'"
            ]
          },
          "metadata": {
            "tags": []
          },
          "execution_count": 1
        }
      ]
    },
    {
      "cell_type": "code",
      "metadata": {
        "id": "x0OIIHRmDwtd",
        "colab": {
          "base_uri": "https://localhost:8080/",
          "height": 35
        },
        "outputId": "933c6657-de99-42c3-fc80-35803f91796e"
      },
      "source": [
        "# [Q1] Code-2\n",
        "a = \"a:b:c:d\"  \n",
        "b = a.replace(\":\", \"#\")    #replace 함수로 : 를 #으로 바꿈\n",
        "b\n"
      ],
      "execution_count": null,
      "outputs": [
        {
          "output_type": "execute_result",
          "data": {
            "application/vnd.google.colaboratory.intrinsic+json": {
              "type": "string"
            },
            "text/plain": [
              "'a#b#c#d'"
            ]
          },
          "metadata": {
            "tags": []
          },
          "execution_count": 2
        }
      ]
    },
    {
      "cell_type": "markdown",
      "metadata": {
        "id": "re2-XrUYXF1m"
      },
      "source": [
        "## Q2. 딕셔너리 값 추출하기\n",
        "> 다음은 딕셔너리의 a에서 'C'라는 key에 해당하는 value를 출력하는 프로그램이다.\n",
        "```\n",
        ">>> a = {'A':90, 'B':80}\n",
        ">>> a['C']\n",
        "Traceback (most recent call last):\n",
        "  File \"<stdin>\", line 1, in <module>\n",
        "KeyError: 'C'\n",
        "```\n",
        ">> a 딕셔너리에는 'C'라는 key가 없으므로 위와 같은 오류가 발생한다.  \n",
        ">>'C'에 해당하는 key 값이 없을 경우 오류 대신 70을 얻을 수 있도록 수정하시오."
      ]
    },
    {
      "cell_type": "code",
      "metadata": {
        "id": "5MBLUZ5WXF1q",
        "colab": {
          "base_uri": "https://localhost:8080/"
        },
        "outputId": "19df7636-0c41-492a-f617-af7f8005720a"
      },
      "source": [
        "# [Q2] Code-1\n",
        "a = {'A':90, 'B':80}\n",
        "a.get('C', 70)   # a 딕셔너리에 c가 없을때 70이 출력"
      ],
      "execution_count": null,
      "outputs": [
        {
          "output_type": "execute_result",
          "data": {
            "text/plain": [
              "70"
            ]
          },
          "metadata": {
            "tags": []
          },
          "execution_count": 3
        }
      ]
    },
    {
      "cell_type": "code",
      "metadata": {
        "id": "viVk7IDSEQZX",
        "colab": {
          "base_uri": "https://localhost:8080/"
        },
        "outputId": "d099fda0-d1f2-48e7-a3f5-9acc187400d7"
      },
      "source": [
        "# [Q2] Code-2\n",
        "a = {'A':90, 'B':80}\n",
        "a['C'] = 70          # a 딕셔너리에 'C':70 추가하고 value 값 출력\n",
        "a['C']"
      ],
      "execution_count": null,
      "outputs": [
        {
          "output_type": "execute_result",
          "data": {
            "text/plain": [
              "70"
            ]
          },
          "metadata": {
            "tags": []
          },
          "execution_count": 4
        }
      ]
    },
    {
      "cell_type": "markdown",
      "metadata": {
        "id": "UZy8lu_BXGnT"
      },
      "source": [
        "## Q3. 리스트의 더하기와 extend 함수\n",
        "> 다음과 같은 리스트 a가 있다.\n",
        "```\n",
        "a = [1, 2, 3]\n",
        "```\n",
        "> 리스트 a에 [4, 5]를 + 기호를 사용하여 더한 결과는 다음과 같다.\n",
        "```\n",
        ">>> a = [1, 2, 3]\n",
        ">>> a = a + [4,5]\n",
        ">>> a\n",
        "[1, 2, 3, 4, 5]\n",
        "```\n",
        "> 리스트 a에 [4,5]를 extend를 사용하여 더한 결과는 다음과 같다.\n",
        "```\n",
        ">>> a = [1, 2, 3]\n",
        ">>> a.extend([4, 5])\n",
        ">>> a\n",
        "[1, 2, 3, 4, 5]\n",
        "```\n",
        "\n",
        "> ### + 기호를 사용하여 더한 것과 extend한 것의 차이점이 있을까? 있다면 그 차이점을 설명하시오."
      ]
    },
    {
      "cell_type": "code",
      "metadata": {
        "id": "H9T_sXHzXGnW",
        "colab": {
          "base_uri": "https://localhost:8080/"
        },
        "outputId": "de7f86aa-e946-4d33-e845-80b3a313d69b"
      },
      "source": [
        "# [Q3] Explain (코드와 주석으로 설명하시오)\n",
        "a = [1, 2, 3] \n",
        "print(id(a))   # 리스트 a 의 주소는 140579724633264 이다\n",
        "\n",
        "a = [1, 2, 3] \n",
        "a = a + [4,5]\n",
        "print(id(a))   # 리스트 a 에 [4,5] 를 +기호를 사용해서 더하면 주소가 140579724632624 이렇게 변하게 된다 즉 두개의 리스트가 더해져서 새로운 리스트가 반환된 것이다"
      ],
      "execution_count": null,
      "outputs": [
        {
          "output_type": "stream",
          "text": [
            "140579724633264\n",
            "140579724632624\n"
          ],
          "name": "stdout"
        }
      ]
    },
    {
      "cell_type": "code",
      "metadata": {
        "colab": {
          "base_uri": "https://localhost:8080/"
        },
        "id": "OskQg4VZzO5k",
        "outputId": "f2e4ab2c-5515-47ad-81d4-b1d34abd0e19"
      },
      "source": [
        "a=[1, 2, 3]\n",
        "print(id(a))  # 리스트 a의 주소는 140579724825136 이다  \n",
        "\n",
        "a.extend([4, 5])\n",
        "print(id(a)) # 리스트 a 에 extend 를 사용해서 [4,5] 를 더하게 되면 주소는 140579724825136 으로 더하기 전과 동일하게 유지되는 차이점이 있다"
      ],
      "execution_count": null,
      "outputs": [
        {
          "output_type": "stream",
          "text": [
            "140579724825136\n",
            "140579724825136\n"
          ],
          "name": "stdout"
        }
      ]
    },
    {
      "cell_type": "markdown",
      "metadata": {
        "id": "fqypxxqTXHY7"
      },
      "source": [
        "## Q4. 리스트 총합 구하기\n",
        "> 다음은 A학급 학생의 점수를 나타내는 리스트이다. 다음 리스트에서 50점 이상 점수의 총합을 구하시오.\n",
        "```\n",
        "A = [20, 55, 67, 82, 45, 33, 90, 87, 100, 25]\n",
        "```"
      ]
    },
    {
      "cell_type": "code",
      "metadata": {
        "id": "oQ5UnmayXHY-",
        "colab": {
          "base_uri": "https://localhost:8080/"
        },
        "outputId": "b889ba47-84b9-4cb9-bcc2-c53bf573d17b"
      },
      "source": [
        "# [Q4] Code-1\n",
        "A = [20, 55, 67, 82, 45, 33, 90, 87, 100, 25]\n",
        "result = 0\n",
        "for i in A: \n",
        "  if i >= 50:\n",
        "    result += i\n",
        "\n",
        "print(result)"
      ],
      "execution_count": null,
      "outputs": [
        {
          "output_type": "stream",
          "text": [
            "481\n"
          ],
          "name": "stdout"
        }
      ]
    },
    {
      "cell_type": "code",
      "metadata": {
        "id": "pMQ1e6jpFomt",
        "colab": {
          "base_uri": "https://localhost:8080/"
        },
        "outputId": "170114d2-0bcd-4032-bda6-85bd160f4244"
      },
      "source": [
        "# [Q4] Code-2\n",
        "A = [20, 55, 67, 82, 45, 33, 90, 87, 100, 25]\n",
        "result = 0\n",
        "while A:                # A 리스트에 값이 존재할동안 무한반복\n",
        "    num = A.pop()      # A리스트의 가장 마지막 항목을 하나씩 뽑아냄\n",
        "    if num >= 50:      # 50점 이상의 점수만 더함\n",
        "        result += num\n",
        "result"
      ],
      "execution_count": null,
      "outputs": [
        {
          "output_type": "execute_result",
          "data": {
            "text/plain": [
              "481"
            ]
          },
          "metadata": {
            "tags": []
          },
          "execution_count": 9
        }
      ]
    },
    {
      "cell_type": "markdown",
      "metadata": {
        "id": "NKsvciXZXIL-"
      },
      "source": [
        "## Q5. 피보나치 함수\n",
        "> 첫 번째 항의 값이 0이고 두 번째 항의 값이 1일 때, 이후에 이어지는 항은 이전의 두 항을 더한 값으로 이루어지는 수열을 피보나치 수열이라고 한다.\n",
        "```\n",
        "0, 1, 1, 2, 3, 5, 8, 13, 21, ...\n",
        "```\n",
        "> 입력을 정수 n으로 받았을 때, n 이하까지의 피보나치 수열을 출력하는 함수를 작성해 보자.\n"
      ]
    },
    {
      "cell_type": "code",
      "metadata": {
        "id": "5MZQYOVjXIL_",
        "colab": {
          "base_uri": "https://localhost:8080/"
        },
        "outputId": "94f79a93-3a2d-4106-8cfd-786f4c47d483"
      },
      "source": [
        "# [Q5] Code-1\n",
        "b=0\n",
        "a = int(input(\"n번째 정수를 입력하세요.:\"))\n",
        "def fibo(num):\n",
        "    if num == 0: return 0             # num이 0일때 0을 리턴\n",
        "    if num == 1: return 1             # num이 1일때 1을 리턴\n",
        "    return fibo(num-2) + fibo(num-1)  # num이 2이상일 경우 fibo(num-2)과 fibo(num-1)을 반환하여 더함\n",
        "\n",
        "for i in range(a):\n",
        "    print(fibo(i), end = \" \")\n"
      ],
      "execution_count": null,
      "outputs": [
        {
          "output_type": "stream",
          "text": [
            "n번째 숫자만큼의 입력하세요.:5\n",
            "0 1 1 2 3 "
          ],
          "name": "stdout"
        }
      ]
    },
    {
      "cell_type": "code",
      "metadata": {
        "id": "JH2Rm_TkF_eu",
        "colab": {
          "base_uri": "https://localhost:8080/"
        },
        "outputId": "16d33dd9-534a-4f33-d9e3-a58b16c91e0e"
      },
      "source": [
        "# [Q5] Code-2\n",
        "num = int(input(\"피보나치 수열의 최댓값을 입력하세요.:\"))\n",
        "result = 0   # 출력되는 결과\n",
        "two = 1      # 두번째 숫자\n",
        "\n",
        "if num > 0:  # 입력받은 값이 0보면 클 경우\n",
        " while result <= num:                   # result의 값이 num과 같아 질때 까지 무한반복\n",
        "    print(result ,end = \" \")            # 처음엔 0\n",
        "    one = result                        # 처음에 0 \n",
        "    result = two                        # result의 값을 while문이 돌아가기전에 교체 \n",
        "    two = one + two                     # two에 첫번째 숫자와 두번째 숫자를 더한 값을 대입\n",
        "\n"
      ],
      "execution_count": null,
      "outputs": [
        {
          "output_type": "stream",
          "text": [
            "피보나치 수열의 최댓값을 입력하세요.:15\n",
            "0 1 1 2 3 5 8 13 "
          ],
          "name": "stdout"
        }
      ]
    },
    {
      "cell_type": "markdown",
      "metadata": {
        "id": "-3KHtOOoXJBV"
      },
      "source": [
        "## Q6. 숫자의 총합 구하기\n",
        "> 사용자로부터 다음과 같은 숫자를 입력받아 입력받은 숫자의 총합을 구하는 프로그램을 작성하시오. (단 숫자는 콤마로 구분하여 입력한다.)\n",
        "\n",
        "```\n",
        "65,45,2,3,45,8\n",
        "```\n"
      ]
    },
    {
      "cell_type": "code",
      "metadata": {
        "id": "AjYR0lUaXJBa",
        "colab": {
          "base_uri": "https://localhost:8080/"
        },
        "outputId": "04da1c24-06c5-49f8-9669-da61a46d0793"
      },
      "source": [
        "# [Q6] Code-1\n",
        "a= input(\"숫자를 입력하세요: \")\n",
        "numbers = a.split(\",\")\n",
        "total = 0\n",
        "for n in numbers:\n",
        "    total += int(n)\n",
        "print(total)\n",
        "\n"
      ],
      "execution_count": null,
      "outputs": [
        {
          "output_type": "stream",
          "text": [
            "숫자를 입력하세요: 1,5,3\n",
            "9\n"
          ],
          "name": "stdout"
        }
      ]
    },
    {
      "cell_type": "code",
      "metadata": {
        "id": "JpkVe0zxGTK1",
        "colab": {
          "base_uri": "https://localhost:8080/"
        },
        "outputId": "885c2a47-f780-4b5a-8916-607f14d162f6"
      },
      "source": [
        "# [Q6] Code-2\n",
        "numbers = map(int, input(\"숫자를 입력하세요: \").split(\",\")) \n",
        "total = sum(numbers) \n",
        "print(total)\n"
      ],
      "execution_count": null,
      "outputs": [
        {
          "output_type": "stream",
          "text": [
            "숫자를 입력하세요: 1,3,5\n",
            "9\n"
          ],
          "name": "stdout"
        }
      ]
    },
    {
      "cell_type": "markdown",
      "metadata": {
        "id": "CiMJjZQ_GdyV"
      },
      "source": [
        "## Q7. 한 줄 구구단\n",
        "> 사용자로부터 2~9의 숫자 중 하나를 입력받아 해당 숫자의 구구단을 한 줄로 출력하는 프로그램을 작성하시오.\n",
        "\n",
        "> 실행 예)\n",
        "```\n",
        "구구단을 출력할 숫자를 입력하세요(2~9): 2\n",
        "2 4 6 8 10 12 14 16 18\n",
        "```\n"
      ]
    },
    {
      "cell_type": "code",
      "metadata": {
        "id": "_8TQZNIwGdyo",
        "colab": {
          "base_uri": "https://localhost:8080/"
        },
        "outputId": "d7b22f23-d089-4d4b-b3ca-8c4dc00208d0"
      },
      "source": [
        "# [Q7] Code-1\n",
        "num = input(\"몇단을 출력 하시겠습니까?:\")\n",
        "number = int(num)       # 입력 문자열을 숫자로 변환\n",
        "for i in range(1, 10):\n",
        "    print(i*number, end= ' ')\n"
      ],
      "execution_count": null,
      "outputs": [
        {
          "output_type": "stream",
          "text": [
            "몇단을 출력 하시겠습니까?:5\n",
            "5 10 15 20 25 30 35 40 45 "
          ],
          "name": "stdout"
        }
      ]
    },
    {
      "cell_type": "code",
      "metadata": {
        "id": "HRX-wvenGdyx",
        "colab": {
          "base_uri": "https://localhost:8080/"
        },
        "outputId": "9f809f90-397c-4ac4-d3cc-c139d2a26f6d"
      },
      "source": [
        "# [Q7] Code-2\n",
        "\n",
        "num= input(\"몇단을 출력 하시겠습니까?\")\n",
        "gugu=int(num)     #input 받는 수를 int씌워서 숫자로 변경\n",
        "\n",
        "def dan(a):   #구구단 함수생성\n",
        "  if 1<a<10:            \n",
        "    for n in range(1,10):     \n",
        "      print(a*n ,end=' ')\n",
        "  else:\n",
        "    print(\"다시 입력해주세요\")\n",
        "\n",
        "dan(gugu)\n"
      ],
      "execution_count": null,
      "outputs": [
        {
          "output_type": "stream",
          "text": [
            "몇단을 출력 하시겠습니까?3\n",
            "3 6 9 12 15 18 21 24 27 "
          ],
          "name": "stdout"
        }
      ]
    },
    {
      "cell_type": "code",
      "metadata": {
        "colab": {
          "base_uri": "https://localhost:8080/"
        },
        "id": "lNW_-l7b7BM9",
        "outputId": "0917f0e4-4781-40f0-f5e2-f48c5ac7201d"
      },
      "source": [
        "# [Q7] Code-3\n",
        "A = input(\"몇단을 출력 하시겠습니까?\")\n",
        "number = int(A)\n",
        "i=1\n",
        "\n",
        "while(i<10):\n",
        "  print(i*number,end=' ')\n",
        "  i = i + 1\n",
        "  "
      ],
      "execution_count": null,
      "outputs": [
        {
          "output_type": "stream",
          "text": [
            "몇단을 출력 하시겠습니까?3\n",
            "3 6 9 12 15 18 21 24 27 "
          ],
          "name": "stdout"
        }
      ]
    },
    {
      "cell_type": "markdown",
      "metadata": {
        "id": "YrS3b88QbmKo"
      },
      "source": [
        "## Q8. 역순 저장\n",
        "> 다음과 같은 내용의 파일 abc.txt가 있다.\n",
        "```\n",
        "AAA\n",
        "BBB\n",
        "CCC\n",
        "DDD\n",
        "EEE\n",
        "```\n",
        "> 이 파일의 내용을 다음과 같이 역순으로 바꾸어 저장하시오.\n",
        "```\n",
        "EEE\n",
        "DDD\n",
        "CCC\n",
        "BBB\n",
        "AAA\n",
        "```"
      ]
    },
    {
      "cell_type": "code",
      "metadata": {
        "id": "Ll_2InMWbmKq"
      },
      "source": [
        "# [Q8] Code-1\n",
        "f = open('abc.txt', 'r')\n",
        "lines = f.readlines()    # 모든 라인을 읽음\n",
        "f.close()\n",
        "\n",
        "lines.reverse()          # 읽은 라인을 역순으로 정렬\n",
        "\n",
        "f = open('abc.txt', 'w')\n",
        "for line in lines:\n",
        "    line = line.strip()  # 포함되어 있는 줄 바꿈 문자 제거\n",
        "    f.write(line)\n",
        "    f.write('\\n')        # 줄 바꿈 문자 삽입\n",
        "f.close()\n"
      ],
      "execution_count": null,
      "outputs": []
    },
    {
      "cell_type": "code",
      "metadata": {
        "colab": {
          "base_uri": "https://localhost:8080/"
        },
        "id": "pRIO9fkpLWLf",
        "outputId": "161e8111-c9c8-42fa-ba70-58f68e1679b4"
      },
      "source": [
        "f=open('abc.txt','r')\n",
        "AAA = f.read()\n",
        "print(AAA)\n",
        "f.close()"
      ],
      "execution_count": null,
      "outputs": [
        {
          "output_type": "stream",
          "text": [
            "EEE\n",
            "DDD\n",
            "CCC\n",
            "BBB\n",
            "AAA\n",
            "\n"
          ],
          "name": "stdout"
        }
      ]
    },
    {
      "cell_type": "code",
      "metadata": {
        "id": "N3uG53JsHIYX",
        "colab": {
          "base_uri": "https://localhost:8080/"
        },
        "outputId": "7eb4f566-958e-4904-cf2e-b6f71ce8cf39"
      },
      "source": [
        "# [Q8] Code-2\n",
        "f = open('abc.txt','r')    \n",
        "alp = f.readlines()       \n",
        "f.close()\n",
        "\n",
        "for alp in reversed(open(\"abc.txt\").readlines()):   \n",
        "    print(alp.strip())"
      ],
      "execution_count": null,
      "outputs": [
        {
          "output_type": "stream",
          "text": [
            "EEE\n",
            "DDD\n",
            "CCC\n",
            "BBB\n",
            "AAA\n"
          ],
          "name": "stdout"
        }
      ]
    },
    {
      "cell_type": "markdown",
      "metadata": {
        "id": "OcSDHHYkK6lZ"
      },
      "source": [
        "## Q9. 평균값 구하기\n",
        "> 다음과 같이 총 10줄로 이루어진 sample.txt 파일이 있다. sample.txt 파일의 숫자 값을 모두 읽어 총합과 평균 값을 구한 후 평균 값을 result.txt 파일에 쓰는 프로그램을 작성하시오.\n",
        "```\n",
        "70\n",
        "60\n",
        "55\n",
        "75\n",
        "95\n",
        "90\n",
        "80\n",
        "80\n",
        "85\n",
        "100\n",
        "```\n"
      ]
    },
    {
      "cell_type": "code",
      "metadata": {
        "id": "GmaaVGqrK6le",
        "colab": {
          "base_uri": "https://localhost:8080/"
        },
        "outputId": "42ff811e-b6a5-44d9-e063-f9674b85d35a"
      },
      "source": [
        "# [Q9] Code-1\n",
        "f = open('sample.txt', 'w')    \n",
        "f.write('70\\n60\\n55\\n75\\n95\\n90\\n80\\n80\\n85\\n100')      \n",
        "f.close()       \n",
        "\n",
        "f = open(\"sample.txt\",'r')\n",
        "lines = f.readlines( )  # sample.txt를 줄 단위로 모두 읽음\n",
        "f.close( )\n",
        "\n",
        "total = 0\n",
        "for line in lines:\n",
        "    score = int(line)  # 줄에 적힌 점수를 숫자형으로 변환\n",
        "    total += score\n",
        "average = total / len(lines)\n",
        "\n",
        "f = open(\"result.txt\", \"w\")  #average가 들어간 result.txt 새로 만듬\n",
        "f.write(str(average))\n",
        "f.close()\n",
        "\n",
        "f = open(\"result.txt\", \"r\")\n",
        "line = f.readline()\n",
        "print(line)\n",
        "f.close()"
      ],
      "execution_count": null,
      "outputs": [
        {
          "output_type": "stream",
          "text": [
            "79.0\n"
          ],
          "name": "stdout"
        }
      ]
    },
    {
      "cell_type": "code",
      "metadata": {
        "id": "kgMy9LVYHfRF"
      },
      "source": [
        "# [Q9] Code-2\n",
        "f = open('sample.txt', 'w')    \n",
        "f.write('70\\n60\\n55\\n75\\n95\\n90\\n80\\n80\\n85\\n100')      \n",
        "f.close() \n",
        "\n",
        "f = open(\"sample.txt\", 'r')\n",
        "score = f.readlines() # 읽어들여서 score에 넣음\n",
        "score = list(map(int, score)) #전부 정수형으로 바꾸기\n",
        "total = 0\n",
        "\n",
        "for i in score: #합계\n",
        "\ttotal = total + i\n",
        "average = total / len(score)\n",
        "\n",
        "f = open(\"result2.txt\", \"w\")  #average가 들어간 result.txt 새로 만듬\n",
        "f.write(str(average))\n",
        "f.close()\n",
        "\n"
      ],
      "execution_count": null,
      "outputs": []
    },
    {
      "cell_type": "markdown",
      "metadata": {
        "id": "anwB_DjuK60j"
      },
      "source": [
        "## Q10. 사칙연산 계산기\n",
        "> 다음과 같이 동작하는 클래스 Calculator를 작성하시오.\n",
        "```\n",
        ">>> cal1 = Calculator([1,2,3,4,5])\n",
        ">>> cal1.sum() # 합계\n",
        "15\n",
        ">>> cal1.avg() # 평균\n",
        "3.0\n",
        ">>> cal2 = Calculator([6,7,8,9,10])\n",
        ">>> cal2.sum() # 합계\n",
        "40\n",
        ">>> cal2.avg() # 평균\n",
        "8.0\n",
        "```\n"
      ]
    },
    {
      "cell_type": "code",
      "metadata": {
        "id": "QJTNoSqtMrIM",
        "colab": {
          "base_uri": "https://localhost:8080/"
        },
        "outputId": "c753ac2c-4ef5-4745-975e-c1037f2c8115"
      },
      "source": [
        "# [Q10] Code-1\n",
        "class Calculator:\n",
        "    def __init__(self, numberList): \n",
        "        self.numberList = numberList\n",
        "\n",
        "    def sum(self): \n",
        "        result = 0\n",
        "        for num in self.numberList: \n",
        "            result += num\n",
        "        return result\n",
        "\n",
        "    def avg(self):\n",
        "        total = self.sum()\n",
        "        return total / len(self.numberList)\n",
        "\n",
        "cal1 = Calculator([1,2,3,4,5]) \n",
        "print (cal1.sum())\n",
        "print (cal1.avg())\n",
        "\n",
        "cal2 = Calculator([6,7,8,9,10]) \n",
        "print (cal2.sum())\n",
        "print (cal2.avg())\n"
      ],
      "execution_count": null,
      "outputs": [
        {
          "output_type": "stream",
          "text": [
            "15\n",
            "3.0\n",
            "40\n",
            "8.0\n"
          ],
          "name": "stdout"
        }
      ]
    },
    {
      "cell_type": "code",
      "metadata": {
        "id": "91hia3WgH2gW",
        "colab": {
          "base_uri": "https://localhost:8080/"
        },
        "outputId": "9a336cfc-f9fc-4b38-f997-3a38909e37f1"
      },
      "source": [
        "# [Q10] Code-2\n",
        "class Calculator:\n",
        "    def __init__ (self, number): \n",
        "        self.number = number\n",
        "        \n",
        "    def sum(self): \n",
        "        result = 0\n",
        "        for num in self.number: \n",
        "            result += num\n",
        "        return result\n",
        "\n",
        "class CCalculator(Calculator):   #클래스 상속\n",
        "    def avg(self):   \n",
        "        total = self.sum()\n",
        "        return total / len(self.number)\n",
        "\n",
        "cal1 = CCalculator([1,2,3,4,5]) \n",
        "print (cal1.sum())\n",
        "print (cal1.avg())\n",
        "\n",
        "cal2 = CCalculator([6,7,8,9,10]) \n",
        "print (cal2.sum())\n",
        "print (cal2.avg())\n"
      ],
      "execution_count": null,
      "outputs": [
        {
          "output_type": "stream",
          "text": [
            "15\n",
            "3.0\n",
            "40\n",
            "8.0\n"
          ],
          "name": "stdout"
        }
      ]
    },
    {
      "cell_type": "markdown",
      "metadata": {
        "id": "gNnjBaJvH_51"
      },
      "source": [
        "\n",
        "\n",
        "---\n",
        "\n",
        "\n"
      ]
    },
    {
      "cell_type": "markdown",
      "metadata": {
        "id": "8xQf6xJ4K7M_"
      },
      "source": [
        "## Q11. 모듈 사용 방법\n",
        "> ./doit 디렉터리에 mymod.py 파이썬 모듈이 있다고 가정해 보자. 명령 프롬프트 창에서 파이썬 셸을 열어 이 모듈을 import해서 사용할 수 있는 방법을 모두 기술하시오. (즉 다음과 같이 import mymod를 수행할 때 오류가 없어야 한다.)\n",
        "```\n",
        ">>> import mymod\n",
        ">>>\n",
        "```"
      ]
    },
    {
      "cell_type": "code",
      "metadata": {
        "id": "4zv7LXPjJiCH"
      },
      "source": [
        "!mkdir doit\n",
        "# 실행 후 새로 고침!\n",
        "# mymod.py 를 업로드한다."
      ],
      "execution_count": null,
      "outputs": []
    },
    {
      "cell_type": "code",
      "metadata": {
        "id": "JA_3n4g8JiB7"
      },
      "source": [
        "!mv mymod.py ./doit\n",
        "# 실행 후 새로 고침!"
      ],
      "execution_count": null,
      "outputs": []
    },
    {
      "cell_type": "code",
      "metadata": {
        "id": "aX_wLb53IgUl"
      },
      "source": [
        "# [Q11] Code-2\n",
        "import sys   \n",
        "sys.path.append(\"/content/doit\")    #/content/doit 경로를 추가해서 mymod를 사용\n",
        "import mymod"
      ],
      "execution_count": null,
      "outputs": []
    },
    {
      "cell_type": "code",
      "metadata": {
        "id": "AQ-Xced1Td7e"
      },
      "source": [
        "from doit import mymod # doit 에서 mymod를 가져와서 바로 사용"
      ],
      "execution_count": null,
      "outputs": []
    },
    {
      "cell_type": "code",
      "metadata": {
        "id": "BrSglk6HVb0X"
      },
      "source": [
        "from doit import * #doit 에서 모든 함수를 다가져와서 사용"
      ],
      "execution_count": null,
      "outputs": []
    },
    {
      "cell_type": "code",
      "metadata": {
        "id": "4fo-uPoMTd29"
      },
      "source": [
        "import os\n",
        "os.chdir(\"/content/doit\")   #content/doit 으로 위치변경해서 mymod를 사용\n",
        "import mymod"
      ],
      "execution_count": null,
      "outputs": []
    },
    {
      "cell_type": "markdown",
      "metadata": {
        "id": "Q6QYCZ9HM3DW"
      },
      "source": [
        "## Q12. 오류와 예외 처리\n",
        "> 다음 코드의 실행 결과를 예측하고 그 이유에 대해 설명하시오.\n",
        "\n",
        "```\n",
        "result = 0\n",
        "\n",
        "try:\n",
        "    [1, 2, 3][3]\n",
        "    \"a\"+1\n",
        "    4 / 0\n",
        "except TypeError:\n",
        "    result += 1\n",
        "except ZeroDivisionError:\n",
        "    result += 2\n",
        "except IndexError:\n",
        "    result += 3\n",
        "finally:\n",
        "    result += 4\n",
        "\n",
        "print(result)\n",
        "```\n"
      ]
    },
    {
      "cell_type": "code",
      "metadata": {
        "id": "hDf0Js4KLOrl",
        "colab": {
          "base_uri": "https://localhost:8080/"
        },
        "outputId": "349aeade-6a8e-4e37-acaa-34ac7f1cbeda"
      },
      "source": [
        "# [Q12] Explain (코드와 주석으로 설명하시오)\n",
        "result = 0   #초기값을 0으로 설정\n",
        " \n",
        "try:\n",
        "    [1, 2, 3][3]          # IndexError  에러 발생       |    3개의 에러가 발생했지만 젤처음에 있는 에러 출력\n",
        "    \"a\"+1                 # TypeError   에러 발생       |\n",
        "    4 / 0                 # ZeroDivisionError 에러발생  |\n",
        "except TypeError:\n",
        "    result += 1\n",
        "except ZeroDivisionError:\n",
        "    result += 2\n",
        "except IndexError:\n",
        "    result += 3           # result에 3이 추가\n",
        "finally:\n",
        "    result += 4           # finally문은 try문 실행중에 에러가 떠도 항상 수행되기 때문에 4 추가 \n",
        " \n",
        "print(result)             #  3+4 =7 출력\n"
      ],
      "execution_count": null,
      "outputs": [
        {
          "output_type": "stream",
          "text": [
            "7\n"
          ],
          "name": "stdout"
        }
      ]
    },
    {
      "cell_type": "markdown",
      "metadata": {
        "id": "x2IYgozSM3gd"
      },
      "source": [
        "## Q13. DashInsert 함수\n",
        "> DashInsert 함수는 숫자로 구성된 문자열을 입력받은 뒤 문자열 안에서 홀수가 연속되면 두 수 사이에 - 를 추가하고, 짝수가 연속되면 * 를 추가하는 기능을 갖고 있다. DashInsert 함수를 완성하시오.\n",
        "```\n",
        "입력 예시: 4546793\n",
        "출력 예시: 454*67-9-3\n",
        "```\n"
      ]
    },
    {
      "cell_type": "code",
      "metadata": {
        "id": "FiKNOu9HM3DX",
        "colab": {
          "base_uri": "https://localhost:8080/"
        },
        "outputId": "bcc06061-6c34-40e0-aea7-2c83950dc116"
      },
      "source": [
        "# [Q13] Code-1\n",
        "data=input(\"숫자 입력\")\n",
        "numbers = list(map(int, data))   # 입력받은걸 전부 int 씌우고 list로 변경\n",
        "result = []\n",
        "\n",
        "for i, num in enumerate(numbers):\n",
        "    result.append(str(num))                 # result 에 숫자 추가\n",
        "    if i < len(numbers)-1:                  \n",
        "        start = num % 2 == 1                # 첫번째 수가 홀수\n",
        "        second = numbers[i+1] % 2 == 1      # 두번째 수가 홀수\n",
        "        if start and second:                # 둘다 홀수이면\n",
        "            result.append(\"-\")              # - 를 result에 추가\n",
        "        elif not start and not second:      # 첫째 둘째 둘다 짝수이면\n",
        "            result.append(\"*\")              # result에 * 추가\n",
        "\n",
        "print(\"\".join(result))\n"
      ],
      "execution_count": null,
      "outputs": [
        {
          "output_type": "stream",
          "text": [
            "숫자 입력135744\n",
            "1-3-5-74*4\n"
          ],
          "name": "stdout"
        }
      ]
    },
    {
      "cell_type": "code",
      "metadata": {
        "id": "d_hmy1RZLqBg",
        "colab": {
          "base_uri": "https://localhost:8080/"
        },
        "outputId": "2cfaf702-7e32-467b-c544-bdaefcba8036"
      },
      "source": [
        "# [Q13] Code-2\n",
        "num = input('숫자: ')\n",
        "result = ''\n",
        "for i in range(len(num)):\n",
        "    result += num[i]\n",
        "    if i == len(num)-1:    \n",
        "        break\n",
        "\n",
        "    if int(num[i])%2== 0 and int(num[i+1])%2== 0:   #처음 숫자가 짝수이고 그다음 숫자도 짝수이면 *을 출력\n",
        "        result += '*'\n",
        "    elif int(num[i])%2 != 0 and int(num[i+1])%2 != 0:  #처음 숫자가 홀수이고 그다음 숫자도 홀수이면 -를 출력\n",
        "        result += '-'\n",
        "\n",
        "print(result)\n"
      ],
      "execution_count": null,
      "outputs": [
        {
          "output_type": "stream",
          "text": [
            "숫자: 235461891\n",
            "23-54*6189-1\n"
          ],
          "name": "stdout"
        }
      ]
    },
    {
      "cell_type": "markdown",
      "metadata": {
        "id": "HDbz71sNL2Qt"
      },
      "source": [
        "## Q14. 문자열 압축하기\n",
        "> 문자열을 입력받아 같은 문자가 연속적으로 반복되는 경우에 그 반복 횟수를 표시해 문자열을 압축하여 표시하시오.\n",
        "```\n",
        "입력 예시: aaabbcccccca\n",
        "출력 예시: a3b2c6a1\n",
        "```\n",
        "\n"
      ]
    },
    {
      "cell_type": "code",
      "metadata": {
        "id": "Hs88sVjjL2Qw",
        "colab": {
          "base_uri": "https://localhost:8080/"
        },
        "outputId": "cf34e505-511a-40fd-bf90-3933ff3a8f76"
      },
      "source": [
        "# [Q14] Code-1\n",
        "alp=input(\"문자를 입력하세요\")\n",
        "\n",
        "result = alp[0]  # 첫번째 값을 결과에 넣는다\n",
        "count  = 0   \n",
        "\n",
        "for st in alp:\n",
        "    if st == result[-1]:  \n",
        "        count += 1\n",
        "    else:\n",
        "        result += str(count) + st\n",
        "        count = 1\n",
        "result += str(count)\n",
        "\n",
        "print(result)\n"
      ],
      "execution_count": null,
      "outputs": [
        {
          "output_type": "stream",
          "text": [
            "문자를 입력하세요aabbcc\n",
            "a2b2c2\n"
          ],
          "name": "stdout"
        }
      ]
    },
    {
      "cell_type": "code",
      "metadata": {
        "id": "XF4F0DW0L2Q1",
        "colab": {
          "base_uri": "https://localhost:8080/"
        },
        "outputId": "a5ab981b-d3a1-4fde-b685-c654ab99c6d5"
      },
      "source": [
        "# [Q14] Code-2\n",
        "i=input(\"압축할 문자열을 입력하세요: \")\n",
        "st=[i[0]]\n",
        "c=1\n",
        "for n in range(len(i)-1):\n",
        "    if i[n]==i[n+1]:    # n과 그다음 문자가 같으면 카운트 1더하기\n",
        "        c+=1\n",
        "    else:                     # 아니면\n",
        "        st.append(str(c))     #카운트를 더하고\n",
        "        st.append(i[n+1])     #아닌 숫자를 더하고\n",
        "        c=1                   #카운트는 1로\n",
        "st.append(str(c))\n",
        "print(\"\".join(st))"
      ],
      "execution_count": null,
      "outputs": [
        {
          "output_type": "stream",
          "text": [
            "압축할 문자열을 입력하세요: aabbcc\n",
            "a2b2c2\n"
          ],
          "name": "stdout"
        }
      ]
    },
    {
      "cell_type": "markdown",
      "metadata": {
        "id": "tCF274jtL3Vk"
      },
      "source": [
        "## Q15. Duplicate Numbers\n",
        "> 0 ~ 9의 문자로 된 숫자를 입력받았을 때, 이 입력값이 0 ~ 9의 모든 숫자를 각각 한 번씩만 사용한 것인지 확인하는 함수를 작성하시오.\n",
        "```\n",
        "입력 예시: 0123456789 01234 01234567890 6789012345 012322456789\n",
        "출력 예시: true false false true false\n",
        "```\n"
      ]
    },
    {
      "cell_type": "code",
      "metadata": {
        "colab": {
          "base_uri": "https://localhost:8080/"
        },
        "id": "Dox87noI724y",
        "outputId": "93deb357-288f-4915-cbca-08eb638e08ef"
      },
      "source": [
        "# [Q15] Code-1\n",
        "a = input(\"0~9사이 숫자입력 : \")\n",
        "print('true' if len(a) == len(set(a)) == 10  else 'false')  #set은 중복이 허용되지 않기때문에 \n",
        "                                                            #만약 같다면 0~9까지를 모두 사용한 것이다"
      ],
      "execution_count": null,
      "outputs": [
        {
          "output_type": "stream",
          "text": [
            "0~9사이 숫자입력 : 1234567890\n",
            "true\n"
          ],
          "name": "stdout"
        }
      ]
    },
    {
      "cell_type": "code",
      "metadata": {
        "colab": {
          "base_uri": "https://localhost:8080/"
        },
        "id": "jeMwv04y9mTj",
        "outputId": "6249c49b-8a19-454a-b4b0-53e3f2502fff"
      },
      "source": [
        "# [Q15] Code-2\n",
        "def check(num):\n",
        "    if len(num) == len(set(num)) == 10:\n",
        "        return True\n",
        "    return False\n",
        "\n",
        "\n",
        "num = ['0123456789','01234','01234567890','6789012345','012322456789']\n",
        "\n",
        "for i in num:\n",
        "    print(check(i),end=' ')"
      ],
      "execution_count": null,
      "outputs": [
        {
          "output_type": "stream",
          "text": [
            "True False False True False "
          ],
          "name": "stdout"
        }
      ]
    },
    {
      "cell_type": "code",
      "metadata": {
        "id": "Bdt_UGgZL3Vr",
        "colab": {
          "base_uri": "https://localhost:8080/"
        },
        "outputId": "d74c04d0-c14a-4192-f454-204457407e14"
      },
      "source": [
        "# [Q15] Code-3\n",
        "def chkDupNum(s):\n",
        "    result = []\n",
        "    for num in s:\n",
        "        if num not in result:   #num 값과 result 가 같지않으면\n",
        "            result.append(num)  #추가\n",
        "        else:\n",
        "            return False       \n",
        "    return len(result) == 10    # result의 갯수는 총 10\n",
        "\n",
        "print(chkDupNum(\"0123456789\"))      \n",
        "print(chkDupNum(\"01234\"))           \n",
        "print(chkDupNum(\"01234567890\"))     \n",
        "print(chkDupNum(\"6789012345\"))      \n",
        "print(chkDupNum(\"012322456789\"))    \n"
      ],
      "execution_count": null,
      "outputs": [
        {
          "output_type": "stream",
          "text": [
            "True\n",
            "False\n",
            "False\n",
            "True\n",
            "False\n"
          ],
          "name": "stdout"
        }
      ]
    },
    {
      "cell_type": "markdown",
      "metadata": {
        "id": "QdPWKi1gL4UE"
      },
      "source": [
        "## Q16. 모스 부호 해독\n",
        "> 문자열 형식으로 입력받은 모스 부호(dot:. dash:-)를 해독하여 영어 문장으로 출력하는 프로그램을 작성하시오.\n",
        "\n",
        "- 글자와 글자 사이는 공백 1개, 단어와 단어 사이는 공백 2개로 구분한다.\n",
        "- 예를 들어 다음 모스 부호는 \"HE SLEEPS EARLY\"로 해석해야 한다.\n",
        "```\n",
        ".... .  ... .-.. . . .--. ...  . .- .-. .-.. -.--\n",
        "```\n",
        "> 모스부호 규칙 표\n",
        "```\n",
        "문자 부호\t문자   부호\n",
        "A\t .-\t    N\t    -.\n",
        "B\t -...\tO\t    ---\n",
        "C\t -.-.\tP\t    .--.\n",
        "D\t -..\tQ\t    --.-\n",
        "E\t .\t    R\t    .-.\n",
        "F\t ..-.\tS\t    ...\n",
        "G\t --.\tT\t    -\n",
        "H\t ....\tU\t    ..-\n",
        "I\t ..\t    V\t    ...-\n",
        "J\t .---\tW\t    .--\n",
        "K\t -.-\tX\t    -..-\n",
        "L\t .-..\tY\t    -.--\n",
        "M\t --\t    Z\t    --..\n",
        "```"
      ]
    },
    {
      "cell_type": "code",
      "metadata": {
        "id": "ciZbyRFrL4UF",
        "colab": {
          "base_uri": "https://localhost:8080/"
        },
        "outputId": "c6775c1c-602e-4fcf-ca3e-a05b61955945"
      },
      "source": [
        "# [Q16] Code-1\n",
        "dic = {    \n",
        "    '.-':'A','-...':'B','-.-.':'C','-..':'D','.':'E','..-.':'F',\n",
        "    '--.':'G','....':'H','..':'I','.---':'J','-.-':'K','.-..':'L',\n",
        "    '--':'M','-.':'N','---':'O','.--.':'P','--.-':'Q','.-.':'R',\n",
        "    '...':'S','-':'T','..-':'U','...-':'V','.--':'W','-..-':'X',\n",
        "    '-.--':'Y','--..':'Z'\n",
        "}\n",
        "\n",
        "def morse(src): \n",
        "    result = []     \n",
        "    for word in src.split(\"  \"):\t# 공백2개 기준으로 나누고 =단어\n",
        "        for char in word.split(\" \"):    # 공백1개 기준으로 나눈다 = 알파벳\n",
        "            result.append(dic[char])    # 딕셔너리 내의 chr 찾아서  추가하자\n",
        "        result.append(\" \")\t\t# 단어와 단어사이 공백 하나 추가 \n",
        "    return \"\".join(result)\t\t# 리스트 형태를 문자열 형태로 합쳐서 출력\n",
        "\n",
        "print(morse('.... .  ... .-.. . . .--. ...  . .- .-. .-.. -.--'))\n"
      ],
      "execution_count": null,
      "outputs": [
        {
          "output_type": "stream",
          "text": [
            "HE SLEEPS EARLY \n"
          ],
          "name": "stdout"
        }
      ]
    },
    {
      "cell_type": "code",
      "metadata": {
        "id": "x9-Qq3mVL4UJ",
        "colab": {
          "base_uri": "https://localhost:8080/"
        },
        "outputId": "ccf495b6-3494-48bb-ba59-c6a5f30ac640"
      },
      "source": [
        "# [Q16] Code-2\n",
        "dic = {  '.-':'A','-...':'B','-.-.':'C','-..':'D','.':'E','..-.':'F',\n",
        "    '--.':'G','....':'H','..':'I','.---':'J','-.-':'K','.-..':'L',\n",
        "    '--':'M','-.':'N','---':'O','.--.':'P','--.-':'Q','.-.':'R',\n",
        "    '...':'S','-':'T','..-':'U','...-':'V','.--':'W','-..-':'X',\n",
        "    '-.--':'Y','--..':'Z'\n",
        "\n",
        "}\n",
        "\n",
        "m = '.... .  ... .-.. . . .--. ...  . .- .-. .-.. -.--'\n",
        "result = ''\n",
        "\n",
        "word = m.split('  ')              #공백 두개 단위로 나눔\n",
        "for i in range(len(word)):  #모스부호 개수만큼 반복\n",
        "    alpabet = word[i].split()     #빈칸 하나 단위로 나눔\n",
        "    for alpa in alpabet:          \n",
        "        result += dic[alpa]    #빈칸 하나 단위로 나눈걸 dic에서 찾아서 결과로 저장\n",
        "    result += ' '              # 결과끼리 공백두고 저장\n",
        "print (result)"
      ],
      "execution_count": null,
      "outputs": [
        {
          "output_type": "stream",
          "text": [
            "HE SLEEPS EARLY \n"
          ],
          "name": "stdout"
        }
      ]
    },
    {
      "cell_type": "code",
      "metadata": {
        "colab": {
          "base_uri": "https://localhost:8080/"
        },
        "id": "eYxncoZCG8JL",
        "outputId": "ea2c3aa8-7e3e-48df-9065-1508a4dc0abb"
      },
      "source": [
        "# [Q16] Code-3\n",
        "dic = {\n",
        "    '.-':'A','-...':'B','-.-.':'C','-..':'D','.':'E','..-.':'F',\n",
        "    '--.':'G','....':'H','..':'I','.---':'J','-.-':'K','.-..':'L',\n",
        "    '--':'M','-.':'N','---':'O','.--.':'P','--.-':'Q','.-.':'R',\n",
        "    '...':'S','-':'T','..-':'U','...-':'V','.--':'W','-..-':'X',\n",
        "    '-.--':'Y','--..':'Z', '':' '\n",
        "}\n",
        "morse= \".... .  ... .-.. . . .--. ...  . .- .-. .-.. -.--\"\n",
        "word=morse.split(\" \")  # morse를 공백으로 나눈다\n",
        "for i in word:         \n",
        "    print(dic[i],end=\"\")  #나눈걸 dic에서 찾아서 출력"
      ],
      "execution_count": null,
      "outputs": [
        {
          "output_type": "stream",
          "text": [
            "HE SLEEPS EARLY"
          ],
          "name": "stdout"
        }
      ]
    },
    {
      "cell_type": "markdown",
      "metadata": {
        "id": "om4sRiRhMosn"
      },
      "source": [
        "\n",
        "\n",
        "---\n",
        "\n",
        "# 다음 정규식 문제는 기말고사 후에 도전해 보세요."
      ]
    },
    {
      "cell_type": "markdown",
      "metadata": {
        "id": "nazB2KXYOm5R"
      },
      "source": [
        "## Regular Expression\n",
        "- import re"
      ]
    },
    {
      "cell_type": "markdown",
      "metadata": {
        "id": "AN8kEO30L5NE"
      },
      "source": [
        "## Q17. 기초 메타 문자\n",
        "> 다음 중 정규식 a[.]{3,}b과 매치되는 문자열은 무엇일까?\n",
        "\n",
        "\n",
        "```\n",
        "acccb\n",
        "a....b\n",
        "aaab\n",
        "a.cccb\n",
        "```\n"
      ]
    },
    {
      "cell_type": "code",
      "metadata": {
        "id": "uKQWoUqhL5NG"
      },
      "source": [
        "# [Q17] Code\n",
        "\n"
      ],
      "execution_count": null,
      "outputs": []
    },
    {
      "cell_type": "markdown",
      "metadata": {
        "id": "0dEWfwATL6DE"
      },
      "source": [
        "## Q18. 문자열 검색\n",
        "> 다음 코드의 결괏값은 무엇일까?\n",
        "\n",
        "```\n",
        ">>> import re\n",
        ">>> p = re.compile(\"[a-z]+\")\n",
        ">>> m = p.search(\"5 python\")\n",
        ">>> m.start() + m.end()\n",
        "```\n"
      ]
    },
    {
      "cell_type": "code",
      "metadata": {
        "id": "Ip11Dmo7L6DH"
      },
      "source": [
        "# [Q18] Code\n",
        "\n"
      ],
      "execution_count": null,
      "outputs": []
    },
    {
      "cell_type": "markdown",
      "metadata": {
        "id": "8QizaqrUL62E"
      },
      "source": [
        "## Q19. 그루핑\n",
        "> 다음과 같은 문자열에서 휴대폰 번호 뒷자리인 숫자 4개를 ####로 바꾸는 프로그램을 정규식을 사용하여 작성하시오.\n",
        "\n",
        "```\n",
        "park 010-9999-9988\n",
        "kim 010-9909-7789\n",
        "lee 010-8789-7768\n",
        "```\n"
      ]
    },
    {
      "cell_type": "code",
      "metadata": {
        "id": "bfRvchIlL62H"
      },
      "source": [
        "# [Q19] Code\n",
        "\n"
      ],
      "execution_count": null,
      "outputs": []
    },
    {
      "cell_type": "markdown",
      "metadata": {
        "id": "0DumiUQoL7jk"
      },
      "source": [
        "## Q20. 전방 탐색\n",
        "> 다음은 이메일 주소를 나타내는 정규식이다. 이 정규식은 park@naver.com, kim@daum.net, lee@myhome.co.kr 등과 매치된다. 긍정형 전방 탐색 기법을 사용하여 .com, .net이 아닌 이메일 주소는 제외시키는 정규식을 작성하시오.\n",
        "\n",
        "```\n",
        ".*[@].*[.].*$\n",
        "```\n"
      ]
    },
    {
      "cell_type": "code",
      "metadata": {
        "id": "9S9UUOkFL7jl"
      },
      "source": [
        "# [Q20] Code\n",
        "\n"
      ],
      "execution_count": null,
      "outputs": []
    },
    {
      "cell_type": "markdown",
      "metadata": {
        "id": "2ljBDShkbqZO"
      },
      "source": [
        "## 코딩 연습 결과를 github에 올리기\n",
        "> 완성된 ipython 노트북 파일을 각자의 github에 올리시오.\n",
        "\n",
        "- github 계정 만들기 (계정이 없는 학생)\n",
        "    1. github에 sign up (Google gmail 계정을 이용해서 만드시오.)\n",
        "- github에 노트 올리기\n",
        "    2. github에 각자의 id로 repo를 만드시오. (한번 만들면 계속 재사용)\n",
        "    3. github repo에 연습결과 노트를 올리시오.\n",
        "        - 제출노트: ch8_exercises_id.ipynb\n"
      ]
    },
    {
      "cell_type": "code",
      "metadata": {
        "id": "OnCR-YNCc8B6"
      },
      "source": [
        ""
      ],
      "execution_count": null,
      "outputs": []
    }
  ]
}